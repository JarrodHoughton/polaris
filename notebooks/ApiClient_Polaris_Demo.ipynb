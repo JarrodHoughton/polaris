{
 "cells": [
  {
   "cell_type": "markdown",
   "id": "8b694330-cb8c-4310-aeef-f6120f8e47f7",
   "metadata": {},
   "source": [
    "# Bootstrap Client with Root Credentials"
   ]
  },
  {
   "cell_type": "code",
   "execution_count": 1,
   "id": "aeea2909-8f53-43d5-8694-c6d265a8db27",
   "metadata": {
    "editable": true,
    "slideshow": {
     "slide_type": ""
    },
    "tags": []
   },
   "outputs": [
    {
     "name": "stdout",
     "output_type": "stream",
     "text": [
      "access_token='principal:root;password:679d81e89256142452d8dd0b74fd1cf4;realm:default-realm;role:ALL' token_type='bearer' expires_in=3600 issued_token_type=None refresh_token=None scope='PRINCIPAL_ROLE:ALL'\n"
     ]
    }
   ],
   "source": [
    "from polaris.catalog.api.iceberg_catalog_api import IcebergCatalogAPI\n",
    "from polaris.catalog.api.iceberg_o_auth2_api import IcebergOAuth2API\n",
    "from polaris.catalog.api_client import ApiClient as CatalogApiClient\n",
    "from polaris.catalog.api_client import Configuration as CatalogApiClientConfiguration\n",
    "from polaris.management import *\n",
    "\n",
    "client_id = '4f7e2797afd677ff'\n",
    "client_secret = '679d81e89256142452d8dd0b74fd1cf4' # pragma: allowlist secret\n",
    "\n",
    "client = CatalogApiClient(CatalogApiClientConfiguration(username=client_id,\n",
    "                                 password=client_secret,\n",
    "                                 host='http://polaris:8181/api/catalog'))\n",
    "\n",
    "oauth_api = IcebergOAuth2API(client)\n",
    "token = oauth_api.get_token(scope='PRINCIPAL_ROLE:ALL',\n",
    "                            client_id=client_id,\n",
    "                          client_secret=client_secret,\n",
    "                          grant_type='client_credentials',\n",
    "                          _headers={'realm': 'default-realm'})\n",
    "\n",
    "client = ApiClient(Configuration(access_token=token.access_token,\n",
    "                                   host='http://polaris:8181/api/management/v1'))\n",
    "root_client = PolarisDefaultApi(client)\n",
    "\n",
    "print(token)"
   ]
  },
  {
   "cell_type": "markdown",
   "id": "a23a704b-bc1e-43ff-8c41-62a2ff71fca5",
   "metadata": {},
   "source": [
    "# Create Catalog"
   ]
  },
  {
   "cell_type": "code",
   "execution_count": 2,
   "id": "9a83c699-128a-43b1-80d8-b0f9c5df32d5",
   "metadata": {
    "editable": true,
    "slideshow": {
     "slide_type": ""
    },
    "tags": []
   },
   "outputs": [
    {
     "name": "stdout",
     "output_type": "stream",
     "text": [
      "type='INTERNAL' name='polaris_demo' properties=CatalogProperties(default_base_location='s3://polaris-test-data-lake/polaris_test/polaris_catalog', additional_properties={}) create_timestamp=1725665539239 last_update_timestamp=1725665539239 entity_version=1 storage_config_info=AwsStorageConfigInfo(storage_type='S3', allowed_locations=['s3://polaris-test-data-lake/polaris_test/', 's3://polaris-test-data-lake/polaris_test/polaris_catalog'], role_arn='arn:aws:iam::479320942928:role/PolarisS3FullAccess', external_id=None, user_arn=None)\n"
     ]
    }
   ],
   "source": [
    "from polaris.management import *\n",
    "\n",
    "storage_conf = AwsStorageConfigInfo(storage_type=\"S3\",\n",
    "                                  allowed_locations=[\"s3://polaris-test-data-lake/polaris_test/\"],\n",
    "                                  role_arn=\"arn:aws:iam::479320942928:role/PolarisS3FullAccess\")\n",
    "catalog_name = 'polaris_demo'\n",
    "try:\n",
    "    catalog = Catalog(name=catalog_name, type='INTERNAL', properties={\"default-base-location\": \"s3://polaris-test-data-lake/polaris_test/polaris_catalog\"},\n",
    "                    storage_config_info=storage_conf)\n",
    "    catalog.storage_config_info = storage_conf\n",
    "    root_client.create_catalog(create_catalog_request=CreateCatalogRequest(catalog=catalog))\n",
    "    resp = root_client.get_catalog(catalog_name=catalog.name)\n",
    "    print(resp)\n",
    "except ApiException as e:\n",
    "    if e.status == 409:\n",
    "        # catalog already exists\n",
    "        print(f\"Catalog {catalog_name} already exists.\")\n",
    "    else:\n",
    "        raise e"
   ]
  },
  {
   "cell_type": "markdown",
   "id": "9d74d012-c3c3-45f9-a1d9-503bfb105681",
   "metadata": {},
   "source": [
    "# Utility Functions"
   ]
  },
  {
   "cell_type": "code",
   "execution_count": 3,
   "id": "babe98f5-ad1e-43c3-b819-f21e4fb03028",
   "metadata": {
    "editable": true,
    "slideshow": {
     "slide_type": ""
    },
    "tags": []
   },
   "outputs": [],
   "source": [
    "# Creates a principal with the given name\n",
    "def create_principal(api, principal_name):\n",
    "  principal = Principal(name=principal_name, type=\"SERVICE\")\n",
    "  try:\n",
    "    principal_result = api.create_principal(CreatePrincipalRequest(principal=principal))\n",
    "    return principal_result\n",
    "  except ApiException as e:\n",
    "    if e.status == 409:\n",
    "        print(api.get_principal(principal_name=principal_name))\n",
    "        return api.rotate_credentials(principal_name=principal_name)\n",
    "    else:\n",
    "      raise e\n",
    "\n",
    "# Create a catalog role with the given name\n",
    "def create_catalog_role(api, catalog, role_name):\n",
    "  catalog_role = CatalogRole(name=role_name)\n",
    "  try:\n",
    "    api.create_catalog_role(catalog_name=catalog.name, create_catalog_role_request=CreateCatalogRoleRequest(catalog_role=catalog_role))\n",
    "    return api.get_catalog_role(catalog_name=catalog.name, catalog_role_name=role_name)\n",
    "  except ApiException as e:\n",
    "    return api.get_catalog_role(catalog_name=catalog.name, catalog_role_name=role_name)\n",
    "  else:\n",
    "    raise e\n",
    "\n",
    "# Create a principal role with the given name\n",
    "def create_principal_role(api, role_name):\n",
    "  principal_role = PrincipalRole(name=role_name)\n",
    "  try:\n",
    "    api.create_principal_role(CreatePrincipalRoleRequest(principal_role=principal_role))\n",
    "    return api.get_principal_role(principal_role_name=role_name)\n",
    "  except ApiException as e:\n",
    "    return api.get_principal_role(principal_role_name=role_name)\n"
   ]
  },
  {
   "cell_type": "markdown",
   "id": "17e57b92-e643-4513-9704-02ee9dfe1c92",
   "metadata": {},
   "source": [
    "# Create Principal, Role and Catalog Role"
   ]
  },
  {
   "cell_type": "code",
   "execution_count": 4,
   "id": "d6ab63f8-e5c0-437e-9a56-dd7c9f5f08bb",
   "metadata": {
    "editable": true,
    "slideshow": {
     "slide_type": ""
    },
    "tags": []
   },
   "outputs": [],
   "source": [
    "# Create the engineer_principal\n",
    "engineer_principal = create_principal(root_client, \"jarrod\")\n",
    "\n",
    "# Create the principal role\n",
    "engineer_role = create_principal_role(root_client, \"engineer\")\n",
    "\n",
    "# Create the catalog role\n",
    "manager_catalog_role = create_catalog_role(root_client, catalog, \"manage_catalog\")\n",
    "\n",
    "# Grant the catalog role to the principal role\n",
    "# All principals in the principal role have the catalog role's privileges\n",
    "root_client.assign_catalog_role_to_principal_role(principal_role_name=engineer_role.name,\n",
    "                                                  catalog_name=catalog.name,\n",
    "                                                  grant_catalog_role_request=GrantCatalogRoleRequest(catalog_role=manager_catalog_role))\n",
    "\n",
    "# Assign privileges to the catalog role\n",
    "# Here, we grant CATALOG_MANAGE_CONTENT\n",
    "root_client.add_grant_to_catalog_role(catalog.name, manager_catalog_role.name,\n",
    "                                      AddGrantRequest(grant=CatalogGrant(catalog_name=catalog.name,\n",
    "                                                                       type='catalog',\n",
    "                                                                       privilege=CatalogPrivilege.CATALOG_MANAGE_CONTENT)))\n",
    "\n",
    "# Assign the principal role to the principal\n",
    "root_client.assign_principal_role(engineer_principal.principal.name, grant_principal_role_request=GrantPrincipalRoleRequest(principal_role=engineer_role))"
   ]
  },
  {
   "cell_type": "markdown",
   "id": "18f188d0-6351-483b-a1d1-d206077bdc31",
   "metadata": {},
   "source": [
    "# List Namespaces"
   ]
  },
  {
   "cell_type": "code",
   "execution_count": 7,
   "id": "fccfd9b4-46ae-4cf7-8137-1dd6cc048587",
   "metadata": {},
   "outputs": [
    {
     "name": "stdout",
     "output_type": "stream",
     "text": [
      "next_page_token=None namespaces=[['test_namespace']]\n"
     ]
    }
   ],
   "source": [
    "client = CatalogApiClient(CatalogApiClientConfiguration(access_token=token.access_token,\n",
    "              host='http://polaris:8181/api/catalog'))\n",
    "catalog_client = IcebergCatalogAPI(client)\n",
    "\n",
    "print(catalog_client.list_namespaces(\n",
    "    prefix=catalog_name\n",
    "))"
   ]
  },
  {
   "cell_type": "markdown",
   "id": "b948aae7-081d-414a-b249-99913441b832",
   "metadata": {
    "editable": true,
    "slideshow": {
     "slide_type": ""
    },
    "tags": []
   },
   "source": [
    "# Create Namespace"
   ]
  },
  {
   "cell_type": "code",
   "execution_count": 6,
   "id": "2b1d032d-e78a-4afc-a28c-dde7c31b946d",
   "metadata": {
    "editable": true,
    "slideshow": {
     "slide_type": ""
    },
    "tags": []
   },
   "outputs": [
    {
     "name": "stdout",
     "output_type": "stream",
     "text": [
      "namespace=['test_namespace'] properties={'location': 's3://polaris-test-data-lake/polaris_test/polaris_catalog/test_namespace'}\n"
     ]
    }
   ],
   "source": [
    "# Import the required class\n",
    "from polaris.catalog.models import CreateNamespaceRequest\n",
    "\n",
    "demo_namespace = \"test_namespace\"\n",
    "\n",
    "# Create the CreateNamespaceRequest object\n",
    "create_namespace_request = CreateNamespaceRequest(namespace=[demo_namespace])\n",
    "\n",
    "# Call the create_namespace method with the correct parameters\n",
    "response = catalog_client.create_namespace(\n",
    "    prefix=catalog_name,\n",
    "    create_namespace_request=create_namespace_request\n",
    ")\n",
    "\n",
    "# Print the response\n",
    "print(response)"
   ]
  },
  {
   "cell_type": "markdown",
   "id": "7947cc23-0b82-4e0a-b100-a6c31c1925e8",
   "metadata": {
    "editable": true,
    "slideshow": {
     "slide_type": ""
    },
    "tags": []
   },
   "source": [
    "# Create Table"
   ]
  },
  {
   "cell_type": "code",
   "execution_count": 10,
   "id": "38175bab-a319-4ed9-942c-b0bb645afe96",
   "metadata": {
    "editable": true,
    "slideshow": {
     "slide_type": ""
    },
    "tags": []
   },
   "outputs": [
    {
     "data": {
      "text/plain": [
       "LoadTableResult(metadata_location='s3://polaris-test-data-lake/polaris_catalog/test_namespace/test_table/metadata/00000-90fa39d0-ad26-4d22-8190-32e6784784d5.metadata.json', metadata=TableMetadata(format_version=2, table_uuid='4ea2f7a5-cc1e-4c19-945a-e1d7a65f653c', location='s3://polaris-test-data-lake/polaris_catalog/test_namespace/test_table', last_updated_ms=1725623660669, properties={'write.parquet.compression-codec': 'zstd'}, schemas=[ModelSchema(type='struct', fields=[StructField(id=1, name='user_id', type=Type(oneof_schema_1_validator='string', oneof_schema_2_validator=None, oneof_schema_3_validator=None, oneof_schema_4_validator=None, actual_instance='string', one_of_schemas={'str', 'ListType', 'MapType', 'StructType'}), required=True, doc=None), StructField(id=2, name='username', type=Type(oneof_schema_1_validator='string', oneof_schema_2_validator=None, oneof_schema_3_validator=None, oneof_schema_4_validator=None, actual_instance='string', one_of_schemas={'str', 'ListType', 'MapType', 'StructType'}), required=True, doc=None), StructField(id=3, name='email', type=Type(oneof_schema_1_validator='string', oneof_schema_2_validator=None, oneof_schema_3_validator=None, oneof_schema_4_validator=None, actual_instance='string', one_of_schemas={'str', 'ListType', 'MapType', 'StructType'}), required=True, doc=None)], schema_id=0, identifier_field_ids=None)], current_schema_id=0, last_column_id=3, partition_specs=[PartitionSpec(spec_id=0, fields=[])], default_spec_id=0, last_partition_id=999, sort_orders=[SortOrder(order_id=0, fields=[])], default_sort_order_id=0, snapshots=[], refs={}, current_snapshot_id=-1, last_sequence_number=0, snapshot_log=[], metadata_log=[], statistics_files=None, partition_statistics_files=None), config={})"
      ]
     },
     "execution_count": 10,
     "metadata": {},
     "output_type": "execute_result"
    }
   ],
   "source": [
    "from polaris.catalog.models import CreateTableRequest, ModelSchema, StructField, Type\n",
    "\n",
    "demo_table = 'test_table'\n",
    "\n",
    "# How to create a table request\n",
    "create_table_req = CreateTableRequest(\n",
    "    name=demo_table,\n",
    "    var_schema=ModelSchema(\n",
    "        type='struct',\n",
    "        fields=[\n",
    "            StructField(\n",
    "                id=0,\n",
    "                name='user_id',\n",
    "                type=Type('string'),\n",
    "                required=True\n",
    "            ),\n",
    "            StructField(\n",
    "                id=1,\n",
    "                name='username',\n",
    "                type=Type('string'),\n",
    "                required=True\n",
    "            ),\n",
    "            StructField(\n",
    "                id=2,\n",
    "                name='email',\n",
    "                type=Type('string'),\n",
    "                required=True\n",
    "            )\n",
    "        ]\n",
    "    )\n",
    ")\n",
    "\n",
    "response = catalog_client.create_table(\n",
    "    prefix=catalog_name,\n",
    "    namespace=demo_namespace,\n",
    "    create_table_request=create_table_req\n",
    ")\n",
    "\n",
    "response"
   ]
  },
  {
   "cell_type": "markdown",
   "id": "e6763646-e91c-484b-8f76-b7a3fb1ab728",
   "metadata": {},
   "source": [
    "# Display Table Metadata"
   ]
  },
  {
   "cell_type": "code",
   "execution_count": 9,
   "id": "4d50a2ee-be76-4cf4-9858-a7fb1d37a6de",
   "metadata": {},
   "outputs": [
    {
     "data": {
      "application/json": {
       "config": {},
       "metadata": {
        "current-schema-id": 0,
        "current-snapshot-id": -1,
        "default-sort-order-id": 0,
        "default-spec-id": 0,
        "format-version": 2,
        "last-column-id": 3,
        "last-partition-id": 999,
        "last-sequence-number": 0,
        "last-updated-ms": 1725543472353,
        "location": "s3://polaris-test-data-lake/polaris_catalog/test_namespace/test_table",
        "metadata-log": [],
        "partition-specs": [
         {
          "fields": []
         }
        ],
        "properties": {
         "write.parquet.compression-codec": "zstd"
        },
        "refs": {},
        "schemas": [
         {
          "fields": [
           {
            "id": 1,
            "name": "user_id",
            "required": true,
            "type": "string"
           },
           {
            "id": 2,
            "name": "username",
            "required": true,
            "type": "string"
           },
           {
            "id": 3,
            "name": "email",
            "required": true,
            "type": "string"
           }
          ],
          "type": "struct"
         }
        ],
        "snapshot-log": [],
        "snapshots": [],
        "sort-orders": [
         {
          "fields": []
         }
        ],
        "table-uuid": "22146f8d-c378-4bf9-bb7e-fb63c62c4cee"
       },
       "metadata-location": "s3://polaris-test-data-lake/polaris_catalog/test_namespace/test_table/metadata/00000-f07fb47f-642b-4d8e-aef2-77a706a04a16.metadata.json"
      },
      "text/plain": [
       "<IPython.core.display.JSON object>"
      ]
     },
     "metadata": {
      "application/json": {
       "expanded": true,
       "root": "root"
      }
     },
     "output_type": "display_data"
    }
   ],
   "source": [
    "import json\n",
    "from IPython.display import display, JSON\n",
    "\n",
    "# Call loadTable\n",
    "tbl_meta = catalog_client.load_table(prefix=catalog_name, namespace=demo_namespace, table=demo_table)\n",
    "display(JSON(tbl_meta.to_dict(), expanded=True))"
   ]
  },
  {
   "cell_type": "markdown",
   "id": "796bcf02-554e-4f9b-bfa3-eb92c8407e04",
   "metadata": {
    "editable": true,
    "slideshow": {
     "slide_type": ""
    },
    "tags": []
   },
   "source": [
    "# Setup Spark"
   ]
  },
  {
   "cell_type": "code",
   "execution_count": 1,
   "id": "15782d20-22f1-45d6-8a9d-afb5f092f822",
   "metadata": {},
   "outputs": [
    {
     "name": "stdout",
     "output_type": "stream",
     "text": [
      "Starting Spark application\n"
     ]
    },
    {
     "data": {
      "text/html": [
       "<table>\n",
       "<tr><th>ID</th><th>YARN Application ID</th><th>Kind</th><th>State</th><th>Spark UI</th><th>Driver log</th><th>User</th><th>Current session?</th></tr><tr><td>0</td><td>None</td><td>pyspark</td><td>idle</td><td></td><td></td><td>None</td><td>✔</td></tr></table>"
      ],
      "text/plain": [
       "<IPython.core.display.HTML object>"
      ]
     },
     "metadata": {},
     "output_type": "display_data"
    },
    {
     "data": {
      "application/vnd.jupyter.widget-view+json": {
       "model_id": "",
       "version_major": 2,
       "version_minor": 0
      },
      "text/plain": [
       "FloatProgress(value=0.0, bar_style='info', description='Progress:', layout=Layout(height='25px', width='50%'),…"
      ]
     },
     "metadata": {},
     "output_type": "display_data"
    },
    {
     "name": "stdout",
     "output_type": "stream",
     "text": [
      "SparkSession available as 'spark'.\n"
     ]
    },
    {
     "data": {
      "application/vnd.jupyter.widget-view+json": {
       "model_id": "",
       "version_major": 2,
       "version_minor": 0
      },
      "text/plain": [
       "FloatProgress(value=0.0, bar_style='info', description='Progress:', layout=Layout(height='25px', width='50%'),…"
      ]
     },
     "metadata": {},
     "output_type": "display_data"
    },
    {
     "name": "stdout",
     "output_type": "stream",
     "text": [
      "<pyspark.sql.session.SparkSession object at 0x7f65f841d180>"
     ]
    }
   ],
   "source": [
    "from pyspark.sql import SparkSession\n",
    "\n",
    "client_id = '0c93d949d1128d8f'\n",
    "client_secret = 'c501c218c4039f98e8a40e73e40bade9'\n",
    "\n",
    "spark = (SparkSession.builder\n",
    "  .config(\"spark.sql.catalog.spark_catalog\", \"org.apache.iceberg.spark.SparkSessionCatalog\")\n",
    "  .config(\"spark.jars.packages\", \"org.apache.iceberg:iceberg-spark-runtime-3.5_2.13:1.5.0,org.apache.hadoop:hadoop-aws:3.4.0,software.amazon.awssdk:bundle:2.23.19,software.amazon.awssdk:url-connection-client:2.23.19\")\n",
    "  .config('spark.sql.iceberg.vectorization.enabled', 'false')\n",
    "         \n",
    "  # Configure the 'polaris' catalog as an Iceberg rest catalog\n",
    "  .config(\"spark.sql.catalog.polaris\", \"org.apache.iceberg.spark.SparkCatalog\")\n",
    "  .config(\"spark.sql.catalog.polaris.type\", \"rest\")\n",
    "  # Specify the rest catalog endpoint       \n",
    "  .config(\"spark.sql.catalog.polaris.uri\", \"http://polaris:8181/api/catalog\")\n",
    "  # Enable token refresh\n",
    "  .config(\"spark.sql.catalog.polaris.token-refresh-enabled\", \"true\")\n",
    "  # specify the client_id:client_secret pair\n",
    "  .config(\"spark.sql.catalog.polaris.credential\", f\"{client_id}:{client_secret}\")\n",
    "\n",
    "  # Set the warehouse to the name of the catalog we created\n",
    "  .config(\"spark.sql.catalog.polaris.warehouse\", 'polaris_demo')\n",
    "\n",
    "  # Scope set to PRINCIPAL_ROLE:ALL\n",
    "  .config(\"spark.sql.catalog.polaris.scope\", 'PRINCIPAL_ROLE:ALL')\n",
    "\n",
    "  # Enable access credential delegation\n",
    "  .config(\"spark.sql.catalog.polaris.header.X-Iceberg-Access-Delegation\", 'vended-credentials')\n",
    "\n",
    "  .config(\"spark.sql.catalog.polaris.io-impl\", \"org.apache.iceberg.io.ResolvingFileIO\")\n",
    "  .config(\"spark.sql.catalog.polaris.s3.region\", \"us-west-1\")\n",
    "  .config(\"spark.history.fs.logDirectory\", \"/home/iceberg/spark-events\")).getOrCreate()\n",
    "\n",
    "print(spark)"
   ]
  },
  {
   "cell_type": "markdown",
   "id": "b10dd69b-7c1f-43d4-8386-011fee444bde",
   "metadata": {},
   "source": [
    "# Insert Data"
   ]
  },
  {
   "cell_type": "code",
   "execution_count": null,
   "id": "a9228bfb-102f-4255-b3ee-ef585ac5cbf5",
   "metadata": {},
   "outputs": [],
   "source": [
    "spark.sql(\"USE polaris\")\n",
    "spark.sql(\"SHOW NAMESPACES\").show()"
   ]
  },
  {
   "cell_type": "markdown",
   "id": "de93ce6c-191e-4c75-be54-053e22b0d978",
   "metadata": {},
   "source": [
    "# Read Data"
   ]
  },
  {
   "cell_type": "code",
   "execution_count": 6,
   "id": "d2cc077b-36f9-499a-be64-b5a92032077e",
   "metadata": {},
   "outputs": [
    {
     "data": {
      "application/vnd.jupyter.widget-view+json": {
       "model_id": "",
       "version_major": 2,
       "version_minor": 0
      },
      "text/plain": [
       "FloatProgress(value=0.0, bar_style='info', description='Progress:', layout=Layout(height='25px', width='50%'),…"
      ]
     },
     "metadata": {},
     "output_type": "display_data"
    }
   ],
   "source": [
    "spark.stop()"
   ]
  },
  {
   "cell_type": "code",
   "execution_count": null,
   "id": "de5c743d-83cd-49c5-9939-ad1141e1eca6",
   "metadata": {},
   "outputs": [],
   "source": []
  }
 ],
 "metadata": {
  "kernelspec": {
   "display_name": "Python 3 (ipykernel)",
   "language": "python",
   "name": "python3"
  },
  "language_info": {
   "codemirror_mode": {
    "name": "ipython",
    "version": 3
   },
   "file_extension": ".py",
   "mimetype": "text/x-python",
   "name": "python",
   "nbconvert_exporter": "python",
   "pygments_lexer": "ipython3",
   "version": "3.10.12"
  }
 },
 "nbformat": 4,
 "nbformat_minor": 5
}
